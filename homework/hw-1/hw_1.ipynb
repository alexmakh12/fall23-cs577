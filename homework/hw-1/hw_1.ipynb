{
 "cells": [
  {
   "cell_type": "markdown",
   "metadata": {},
   "source": [
    "### Part 1: Using JupyterLab\n",
    "\n",
    "#### 1.1. Running Cells and Displaying Output "
   ]
  },
  {
   "cell_type": "code",
   "execution_count": 50,
   "metadata": {},
   "outputs": [
    {
     "name": "stdout",
     "output_type": "stream",
     "text": [
      "Hello,world!\n"
     ]
    },
    {
     "data": {
      "text/plain": [
       "8"
      ]
     },
     "execution_count": 50,
     "metadata": {},
     "output_type": "execute_result"
    }
   ],
   "source": [
    "# Does not print since its not the last expression and not within a print function\n",
    "# If it was alone in its own cell it would print as shown below\n",
    "\"Will this line be displayed\"\n",
    "\n",
    "# Prints hello words\n",
    "print(\"Hello\" + \",\" + \"world!\")\n",
    "\n",
    "# Math expression that prints\n",
    "5 + 3"
   ]
  },
  {
   "cell_type": "code",
   "execution_count": 51,
   "metadata": {},
   "outputs": [
    {
     "data": {
      "text/plain": [
       "'Will this line be displayed'"
      ]
     },
     "execution_count": 51,
     "metadata": {},
     "output_type": "execute_result"
    }
   ],
   "source": [
    "# Prints string below\n",
    "\"Will this line be displayed\""
   ]
  },
  {
   "cell_type": "markdown",
   "metadata": {},
   "source": [
    "#### 1.2 Viewing Documentation\n"
   ]
  },
  {
   "cell_type": "code",
   "execution_count": 52,
   "metadata": {},
   "outputs": [
    {
     "name": "stdout",
     "output_type": "stream",
     "text": [
      "Help on built-in function print in module builtins:\n",
      "\n",
      "print(*args, sep=' ', end='\\n', file=None, flush=False)\n",
      "    Prints the values to a stream, or to sys.stdout by default.\n",
      "    \n",
      "    sep\n",
      "      string inserted between values, default a space.\n",
      "    end\n",
      "      string appended after the last value, default a newline.\n",
      "    file\n",
      "      a file-like object (stream); defaults to the current sys.stdout.\n",
      "    flush\n",
      "      whether to forcibly flush the stream.\n",
      "\n",
      "Welcome.\n"
     ]
    }
   ],
   "source": [
    "# Output the documentation for a function\n",
    "help(print)\n",
    "\n",
    "# Use  shift + tab to view the function’s documentation\n",
    "print(\"Welcome.\")"
   ]
  },
  {
   "cell_type": "markdown",
   "metadata": {},
   "source": [
    "### 1.3 Importing Libraries"
   ]
  },
  {
   "cell_type": "code",
   "execution_count": 53,
   "metadata": {},
   "outputs": [],
   "source": [
    "# Import libraries commonly used for processing data \n",
    "import pandas as pa \n",
    "import numpy as np\n",
    "import matplotlib.pyplot as plt \n",
    "import seaborn as sns"
   ]
  },
  {
   "cell_type": "markdown",
   "metadata": {},
   "source": [
    "### Part 2: Python\n",
    "\n",
    "#### 2.1. Write a function summation that evaluates the following summation for n ≥ 1:\n",
    "![Alt text](./img/image.png)"
   ]
  },
  {
   "cell_type": "code",
   "execution_count": 54,
   "metadata": {},
   "outputs": [],
   "source": [
    "def summation(n):\n",
    "    \"\"\"\n",
    "    Computes the summation of the expression i^3 + 3i^2 for each i from 1 to n.\n",
    "\n",
    "    Args:\n",
    "        n (int): The upper bound of the summation range. \n",
    "\n",
    "    Returns:\n",
    "        int: The result of the summation from 1 to n for the given expression.\n",
    "    \"\"\"\n",
    "\n",
    "    # Initialize total sum\n",
    "    total_sum = 0\n",
    "\n",
    "    # Perform summation\n",
    "    for num in range(1, n + 1):\n",
    "        total_sum += num**3 + 3*num**2\n",
    "\n",
    "    # return total sum from summation\n",
    "    return total_sum"
   ]
  },
  {
   "cell_type": "code",
   "execution_count": 55,
   "metadata": {},
   "outputs": [
    {
     "data": {
      "text/plain": [
       "[4, 24, 78, 190, 390, 714, 1204, 1908, 2880]"
      ]
     },
     "execution_count": 55,
     "metadata": {},
     "output_type": "execute_result"
    }
   ],
   "source": [
    "# Testing summation\n",
    "answer_list = []\n",
    "\n",
    "for number in range(1,10):\n",
    "    answer_list.append(summation(number))\n",
    "\n",
    "answer_list"
   ]
  },
  {
   "cell_type": "markdown",
   "metadata": {},
   "source": [
    "#### 2.2. Write a function list_sum that:\n",
    "- Computes the square of each value in list_1, the cube of each value in list_2, \n",
    "-  Then returns a list containing the element-wise sum of these results. \n",
    "    -  Assume that list_1 and list_2 have the same number of elements."
   ]
  },
  {
   "cell_type": "code",
   "execution_count": 56,
   "metadata": {},
   "outputs": [],
   "source": [
    "def list_sum(list_1, list_2):\n",
    "    \"\"\"\n",
    "    Computes the square of each value in list_1 and the cube of each value in list_2, \n",
    "    then returns a list containing the element-wise sum of these results.\n",
    "\n",
    "    Args:\n",
    "        list_1 (list): A list of numbers to be squared.\n",
    "        list_2 (list): A list of numbers to be cubed.\n",
    "\n",
    "    Returns:\n",
    "        list: A list containing the element-wise summation of the squared and cubed values.\n",
    "    \"\"\"\n",
    "\n",
    "    # Error handling : If the list length is not the same return error\n",
    "    if len(list_1) != len(list_2):\n",
    "        return \"Lists are not the same size\"\n",
    "    \n",
    "    # Initialize a return list to hold tha values of the element-wise sum\n",
    "    result_list = []\n",
    "    \n",
    "    # Iterate over the two lists simultaneously and compute\n",
    "    for li_1, li_2 in zip(list_1, list_2):\n",
    "        value = (li_1**2) + (li_2**3)\n",
    "        result_list.append(value)\n",
    "\n",
    "    # Return the list that holds the values of the element\n",
    "    return result_list"
   ]
  },
  {
   "cell_type": "code",
   "execution_count": 57,
   "metadata": {},
   "outputs": [
    {
     "name": "stdout",
     "output_type": "stream",
     "text": [
      "Lists are not the same size\n",
      "[2, 12, 36]\n"
     ]
    }
   ],
   "source": [
    "# Testing error handling\n",
    "list_1 = [1, 2]\n",
    "list_2 = [1, 2, 3]\n",
    "print(list_sum(list_1, list_2))\n",
    "\n",
    "# Testing computation\n",
    "list_1 = [1, 2, 3]\n",
    "list_2 = [1, 2, 3]\n",
    "print(list_sum(list_1, list_2))"
   ]
  },
  {
   "cell_type": "markdown",
   "metadata": {},
   "source": [
    "### Part 3: NumPy\n",
    "\n",
    "#### 3.1. Create array arr1 containing the values 1, 2, and 3 (in that order) and arr2 containing the values 4,5,and 6"
   ]
  },
  {
   "cell_type": "code",
   "execution_count": 58,
   "metadata": {},
   "outputs": [],
   "source": [
    "# Create array arr1 with values 1, 2, and 3\n",
    "arr1 = np.array([1,2,3])\n",
    "\n",
    "# Create array arr2 with values 1, 2, and 3\n",
    "arr2 = np.array([4,5,6])"
   ]
  },
  {
   "cell_type": "code",
   "execution_count": 59,
   "metadata": {},
   "outputs": [
    {
     "name": "stdout",
     "output_type": "stream",
     "text": [
      "[1 2 3]\n",
      "[4 5 6]\n"
     ]
    }
   ],
   "source": [
    "# Testing by printing both arrays\n",
    "print(arr1)\n",
    "print(arr2)"
   ]
  },
  {
   "cell_type": "markdown",
   "metadata": {},
   "source": [
    "#### 3.2. Add arr1 and arr2 element-wise"
   ]
  },
  {
   "cell_type": "code",
   "execution_count": 60,
   "metadata": {},
   "outputs": [],
   "source": [
    "# Add arr1 and arr2 element-wise ; note both arr1 and arr2 are defined above\n",
    "arr3 = arr1 + arr2"
   ]
  },
  {
   "cell_type": "code",
   "execution_count": 61,
   "metadata": {},
   "outputs": [
    {
     "name": "stdout",
     "output_type": "stream",
     "text": [
      "[5 7 9]\n"
     ]
    }
   ],
   "source": [
    "print(arr3)"
   ]
  },
  {
   "cell_type": "markdown",
   "metadata": {},
   "source": [
    "#### 3.3. Use NumPy to recreate your answer to Question 2.2. This time call the method as array_sum. The input parameters will both be lists, so you will need to convert the lists into arrays before performing your operations"
   ]
  },
  {
   "cell_type": "code",
   "execution_count": 62,
   "metadata": {},
   "outputs": [],
   "source": [
    "def np_list_sum(list_1, list_2):\n",
    "    \"\"\"\n",
    "    This function computes the square of each value in list_1 and the cube of each value in list_2\n",
    "    then returns an array containing the element-wise sum of these results.\n",
    "\n",
    "    Args:\n",
    "        list_1 (list): A list of numbers to be squared.\n",
    "        list_2 (list): A list of numbers to be cubed.\n",
    "\n",
    "    Returns:\n",
    "        numpy.array: An array containing the element-wise summation of the squared and cubed values.\n",
    "    \"\"\"\n",
    "\n",
    "    # Error handling : If the list length is not the same return error\n",
    "    if len(list_1) != len(list_2):\n",
    "        return \"Lists are not the same size\"\n",
    "\n",
    "    # Convert lists to arrays\n",
    "    arr1 = np.array(list_1)\n",
    "    arr2 = np.array(list_2)\n",
    "\n",
    "    # Square arr1 and cube arr2 then add them element-wise\n",
    "    list_1 = arr1**2 + arr2**3\n",
    "\n",
    "    return list_1"
   ]
  },
  {
   "cell_type": "code",
   "execution_count": 63,
   "metadata": {},
   "outputs": [
    {
     "name": "stdout",
     "output_type": "stream",
     "text": [
      "[ 2 12 36]\n"
     ]
    }
   ],
   "source": [
    "# Testing computation with previously defined lists above ; list_1 = [1, 2, 3] and list_2 = [1, 2, 3]\n",
    "print(np_list_sum(list_1, list_2))"
   ]
  },
  {
   "cell_type": "markdown",
   "metadata": {},
   "source": [
    "#### 3.4. Show the time difference between list_sum and array_sum methods 2.2. and 3.3. with the following inputs using %%time command."
   ]
  },
  {
   "cell_type": "code",
   "execution_count": 64,
   "metadata": {},
   "outputs": [
    {
     "name": "stdout",
     "output_type": "stream",
     "text": [
      "CPU times: user 4 µs, sys: 1 µs, total: 5 µs\n",
      "Wall time: 5.96 µs\n"
     ]
    },
    {
     "data": {
      "text/plain": [
       "[2, 12, 36]"
      ]
     },
     "execution_count": 64,
     "metadata": {},
     "output_type": "execute_result"
    }
   ],
   "source": [
    "%%time \n",
    "list_sum(list_1, list_2)"
   ]
  },
  {
   "cell_type": "code",
   "execution_count": 65,
   "metadata": {},
   "outputs": [
    {
     "name": "stdout",
     "output_type": "stream",
     "text": [
      "CPU times: user 22 µs, sys: 1 µs, total: 23 µs\n",
      "Wall time: 24.1 µs\n"
     ]
    },
    {
     "data": {
      "text/plain": [
       "array([ 2, 12, 36])"
      ]
     },
     "execution_count": 65,
     "metadata": {},
     "output_type": "execute_result"
    }
   ],
   "source": [
    "%%time \n",
    "np_list_sum(list_1, list_2)"
   ]
  },
  {
   "cell_type": "markdown",
   "metadata": {},
   "source": [
    "### Part 4: Matplotlib\n",
    "\n",
    "#### 4.1 Visualize the function f(t) = 3 sin(2πt). Set the x limit of all figures to [0, π] and the y limit to [−10, 10]. Plot the sine function using plt.plot with 30 red plus signs. Additionally, make sure the x ticks are labeled [0, π/2 , π], and that your axes are labeled as well. You can use the matplotlib documentation for reference.\n",
    "- Hint 1: You can set axis bounds with plt.axis.\n",
    "- Hint 2: You can set xticks and labels with plt.xticks.\n",
    "- Hint 3: Make sure you add plt.xlabel, plt.ylabel, plt.title."
   ]
  },
  {
   "cell_type": "code",
   "execution_count": 66,
   "metadata": {},
   "outputs": [
    {
     "data": {
      "image/png": "[encoded data removed]",
      "text/plain": [
       "<Figure size 800x600 with 1 Axes>"
      ]
     },
     "metadata": {},
     "output_type": "display_data"
    }
   ],
   "source": [
    "# Define 30 points between 0 and pi\n",
    "t = np.linspace(0, np.pi, 30)  \n",
    "\n",
    "# Define the function\n",
    "f = 3 * np.sin(2 * np.pi * t)\n",
    "\n",
    "# Plot the function\n",
    "\n",
    "# Set the figure size\n",
    "plt.figure(figsize=(8,6))\n",
    "\n",
    "# Plot with a red plus sign\n",
    "plt.plot(t, f, 'r+', markersize=5)\n",
    "\n",
    "# Set axis bounds \n",
    "plt.axis([0, np.pi, -10, 10])\n",
    "\n",
    "# Setting x ticks and labels\n",
    "plt.xticks([0, np.pi/2, np.pi], [0, \"π/2\", \"π\"])\n",
    "\n",
    "# Adding labels and title\n",
    "plt.xlabel('t')\n",
    "plt.ylabel('f(t)')\n",
    "plt.title('f(t) = 3sin(2πt)')\n",
    "\n",
    "# Display the plot\n",
    "plt.grid(True)\n",
    "plt.show()"
   ]
  }
 ],
 "metadata": {
  "kernelspec": {
   "display_name": "Python 3",
   "language": "python",
   "name": "python3"
  },
  "language_info": {
   "codemirror_mode": {
    "name": "ipython",
    "version": 3
   },
   "file_extension": ".py",
   "mimetype": "text/x-python",
   "name": "python",
   "nbconvert_exporter": "python",
   "pygments_lexer": "ipython3",
   "version": "3.11.5"
  },
  "orig_nbformat": 4
 },
 "nbformat": 4,
 "nbformat_minor": 2
}
