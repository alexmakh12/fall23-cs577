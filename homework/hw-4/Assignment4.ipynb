{
 "cells": [
  {
   "cell_type": "markdown",
   "id": "configured-background",
   "metadata": {},
   "source": [
    "# Assignment 4: Linear Regression and Gradient Descent\n",
    "\n",
    "## Collaboration Policy\n",
    "\n",
    "This may be a group assignment. Please list the names of group members below if you choose to work with a group"
   ]
  },
  {
   "cell_type": "markdown",
   "id": "graduate-tractor",
   "metadata": {},
   "source": [
    "**Collaborators**: *list  collaborators here*"
   ]
  },
  {
   "cell_type": "markdown",
   "id": "surrounded-turkish",
   "metadata": {},
   "source": [
    "## Scoring Breakdown\n",
    "\n",
    "|Question|Points|\n",
    "|---|---|\n",
    "|1.a|10|\n",
    "|1.b|10|\n",
    "|2.a|10|\n",
    "|2.b|10|\n",
    "|2.c|10|\n",
    "|2.d|10|\n",
    "|2.e|10|\n",
    "|3.a|20|\n",
    "|3.b|10|\n",
    "|**Total**|100|"
   ]
  },
  {
   "cell_type": "code",
   "execution_count": 54,
   "metadata": {},
   "outputs": [],
   "source": [
    "import numpy as np\n",
    "import pandas as pd"
   ]
  },
  {
   "cell_type": "markdown",
   "id": "elementary-population",
   "metadata": {},
   "source": [
    "## Question 1. \n",
    "Suppose we create a linear model with parameters $\\vec{\\hat{\\beta}}=[\\hat{\\beta}_0,...,\\hat{\\beta}_p]$\n",
    "As we saw in lecture, such a model makes predictions $\\hat{y}=\\vec{\\hat{\\beta}}.\\vec{x}=\\sum{\\hat{\\beta}_ix_i}$ \n",
    "\n",
    "\n",
    "### 1.a. \n",
    "Suppose $\\vec{\\hat{\\beta}}=[1,2,1]$ and e receive an observation $x = [4, 2, 1]$. What $\\hat{y}$ value will\n",
    "this model predict for the given observation?"
   ]
  },
  {
   "cell_type": "markdown",
   "id": "valuable-french",
   "metadata": {},
   "source": []
  },
  {
   "cell_type": "markdown",
   "id": "beneficial-burke",
   "metadata": {},
   "source": [
    "### 1.b.\n",
    "Suppose the correct $y$ was 6.1. What will be the L2 loss for our prediction $\\hat{y}$ from question 1.a?"
   ]
  },
  {
   "cell_type": "markdown",
   "id": "listed-savannah",
   "metadata": {},
   "source": []
  },
  {
   "cell_type": "markdown",
   "id": "favorite-empire",
   "metadata": {},
   "source": [
    "## Question 2.\n",
    "\n",
    "The following function generates the dataset you need for the rest of the questions"
   ]
  },
  {
   "cell_type": "code",
   "execution_count": 55,
   "id": "aboriginal-jurisdiction",
   "metadata": {},
   "outputs": [],
   "source": [
    "# This function helps generate a synthesized dataset based on a given gamma value\n",
    "def generate_dataset(gamma, std=1, num_samples=100, with_intercept=True):\n",
    "    \"\"\"\n",
    "    This function generates a synthetic dataset based on a give gamma value\n",
    "\n",
    "    !TODO: Finish doc string\n",
    "    \"\"\"\n",
    "    X = np.random.random_sample(num_samples)\n",
    "    e = np.random.randn(num_samples) * std \n",
    "    intercept = -int(with_intercept) * 2\n",
    "    Y = gamma * X + intercept + e\n",
    "    #X=X.reshape(-1, 1)\n",
    "    #Y=Y.reshape(-1, 1)\n",
    "    data=pd.DataFrame({'X':X, 'Y':Y})\n",
    "    return data"
   ]
  },
  {
   "cell_type": "code",
   "execution_count": 56,
   "id": "hollow-arthur",
   "metadata": {},
   "outputs": [
    {
     "data": {
      "text/html": [
       "<div>\n",
       "<style scoped>\n",
       "    .dataframe tbody tr th:only-of-type {\n",
       "        vertical-align: middle;\n",
       "    }\n",
       "\n",
       "    .dataframe tbody tr th {\n",
       "        vertical-align: top;\n",
       "    }\n",
       "\n",
       "    .dataframe thead th {\n",
       "        text-align: right;\n",
       "    }\n",
       "</style>\n",
       "<table border=\"1\" class=\"dataframe\">\n",
       "  <thead>\n",
       "    <tr style=\"text-align: right;\">\n",
       "      <th></th>\n",
       "      <th>X</th>\n",
       "      <th>Y</th>\n",
       "    </tr>\n",
       "  </thead>\n",
       "  <tbody>\n",
       "    <tr>\n",
       "      <th>0</th>\n",
       "      <td>0.034065</td>\n",
       "      <td>-2.817151</td>\n",
       "    </tr>\n",
       "    <tr>\n",
       "      <th>1</th>\n",
       "      <td>0.806683</td>\n",
       "      <td>6.622096</td>\n",
       "    </tr>\n",
       "    <tr>\n",
       "      <th>2</th>\n",
       "      <td>0.050722</td>\n",
       "      <td>0.203378</td>\n",
       "    </tr>\n",
       "    <tr>\n",
       "      <th>3</th>\n",
       "      <td>0.918814</td>\n",
       "      <td>8.387672</td>\n",
       "    </tr>\n",
       "    <tr>\n",
       "      <th>4</th>\n",
       "      <td>0.215303</td>\n",
       "      <td>0.473668</td>\n",
       "    </tr>\n",
       "    <tr>\n",
       "      <th>...</th>\n",
       "      <td>...</td>\n",
       "      <td>...</td>\n",
       "    </tr>\n",
       "    <tr>\n",
       "      <th>95</th>\n",
       "      <td>0.948967</td>\n",
       "      <td>6.704364</td>\n",
       "    </tr>\n",
       "    <tr>\n",
       "      <th>96</th>\n",
       "      <td>0.533896</td>\n",
       "      <td>3.887938</td>\n",
       "    </tr>\n",
       "    <tr>\n",
       "      <th>97</th>\n",
       "      <td>0.030510</td>\n",
       "      <td>-1.094447</td>\n",
       "    </tr>\n",
       "    <tr>\n",
       "      <th>98</th>\n",
       "      <td>0.899239</td>\n",
       "      <td>7.814591</td>\n",
       "    </tr>\n",
       "    <tr>\n",
       "      <th>99</th>\n",
       "      <td>0.328498</td>\n",
       "      <td>-0.555513</td>\n",
       "    </tr>\n",
       "  </tbody>\n",
       "</table>\n",
       "<p>100 rows × 2 columns</p>\n",
       "</div>"
      ],
      "text/plain": [
       "           X         Y\n",
       "0   0.034065 -2.817151\n",
       "1   0.806683  6.622096\n",
       "2   0.050722  0.203378\n",
       "3   0.918814  8.387672\n",
       "4   0.215303  0.473668\n",
       "..       ...       ...\n",
       "95  0.948967  6.704364\n",
       "96  0.533896  3.887938\n",
       "97  0.030510 -1.094447\n",
       "98  0.899239  7.814591\n",
       "99  0.328498 -0.555513\n",
       "\n",
       "[100 rows x 2 columns]"
      ]
     },
     "execution_count": 56,
     "metadata": {},
     "output_type": "execute_result"
    }
   ],
   "source": [
    "# Generate a dataset with a gamma value of 10\n",
    "data = generate_dataset(gamma=10)\n",
    "\n",
    "# Display the dataset\n",
    "data"
   ]
  },
  {
   "cell_type": "markdown",
   "id": "decent-fruit",
   "metadata": {},
   "source": [
    "### 2.a.\n",
    "\n",
    "Using the following functions (gradient descent, mse_loss, and mse_loss_derivative), find the best value of gamma that the gradient descent algorithm can find in 100 iterations for initial gamma=0.1 and $\\alpha=0.01$. "
   ]
  },
  {
   "cell_type": "code",
   "execution_count": 57,
   "id": "ruled-thousand",
   "metadata": {},
   "outputs": [],
   "source": [
    "# Initialize global variables\n",
    "x=data['X']\n",
    "y_obs=data['Y']\n",
    "\n",
    "# NOTE: I changed 'df' to 'loss_derivative_func' as I kept confusing it with data frame\n",
    "def gradient_descent(loss_derivative_func, initial_guess, alpha, n):\n",
    "    \"\"\"\n",
    "    Perform gradient descent to find the minimum of a loss function\n",
    "\n",
    "    Args:\n",
    "        loss_derivative_func (function): Function that computes the derivative of the loss function\n",
    "        initial_guess (float): Initial starting point\n",
    "        alpha (float): Step size to take in each iteration\n",
    "        n (int): Number of iterations to perform\n",
    "\n",
    "    Returns:\n",
    "        np.array: Array containing the sequence of guesses converging to the minimum\n",
    "    \"\"\"\n",
    "\n",
    "    guesses = [initial_guess]\n",
    "    guess = initial_guess\n",
    "    while len(guesses) < n:\n",
    "        guess = guess - alpha * loss_derivative_func(guess)\n",
    "        guesses.append(guess)\n",
    "    return np.array(guesses)\n",
    "\n",
    "def mse_loss(gamma):\n",
    "    \"\"\"\n",
    "    Calculate the mean squared error loss for the model\n",
    "\n",
    "    Args:\n",
    "        gamma (float): The model parameter\n",
    "\n",
    "    Returns:\n",
    "        float: The mean squared error between the predicted and observed values\n",
    "    \"\"\"\n",
    "    y_hat = gamma * x\n",
    "    return np.mean((y_hat - y_obs) ** 2)  \n",
    "\n",
    "def mse_loss_derivative(gamma):\n",
    "    \"\"\"\n",
    "    Compute the derivative of the MSE loss function with respect to gamma\n",
    "\n",
    "    Args:\n",
    "        gamma (float): The model parameter\n",
    "\n",
    "    Returns:\n",
    "        float: The derivative of the MSE loss function\n",
    "    \"\"\"\n",
    "    y_hat = gamma * x\n",
    "    return np.mean(2 * (y_hat - y_obs) * x)"
   ]
  },
  {
   "cell_type": "code",
   "execution_count": 58,
   "id": "offshore-sacramento",
   "metadata": {},
   "outputs": [
    {
     "data": {
      "text/plain": [
       "3.199712927720538"
      ]
     },
     "execution_count": 58,
     "metadata": {},
     "output_type": "execute_result"
    }
   ],
   "source": [
    "# Initialize gamma for GD ; initial starting point\n",
    "initial_gamma = 0.1\n",
    "\n",
    "# Initialize alpha for GD ; determines the size of steps to take toward the minimum\n",
    "alpha = 0.01\n",
    "\n",
    "# Initialize the number of iterations to perform\n",
    "iterations = 100\n",
    "\n",
    "# Run the GD algorithm to find the optimal value of gamma.\n",
    "# NOTE: `gradient_descent` takes the derivative function `mse_loss_derivative` and calls it within the function\n",
    "gammas = gradient_descent(mse_loss_derivative, initial_gamma, alpha, iterations)\n",
    "\n",
    "# Retrieve the last value from the list of gamma values which is the value of gamma after the final iteration\n",
    "best_gamma = gammas[-1] \n",
    "\n",
    "# Print the best gamma\n",
    "best_gamma\n"
   ]
  },
  {
   "cell_type": "markdown",
   "id": "extra-discussion",
   "metadata": {},
   "source": [
    "### 2.b.\n",
    "Create a plot below showing the fitted simple linear regression model on the observed data for when you pick the gamma selected by the above algorithm. Your plot should include at least the following:\n",
    "- A scatter plot of all the observed data\n",
    "- A line plot for the simple linear regression model without an intercept\n",
    "- An appropriate title, a legend labeling which line does not contain an intercept, and labels for both axes"
   ]
  },
  {
   "cell_type": "code",
   "execution_count": null,
   "id": "lucky-reservoir",
   "metadata": {},
   "outputs": [],
   "source": []
  },
  {
   "cell_type": "markdown",
   "id": "supported-young",
   "metadata": {},
   "source": [
    "### 2.c.\n",
    "\n",
    "Use a different value of $\\alpha=0.1$ and repeat 2.a and 2.b.\n"
   ]
  },
  {
   "cell_type": "code",
   "execution_count": null,
   "id": "emerging-board",
   "metadata": {},
   "outputs": [],
   "source": []
  },
  {
   "cell_type": "markdown",
   "id": "understood-haven",
   "metadata": {},
   "source": [
    "### 2.d.\n",
    "Which value of $\\alpha$ resulted in a better model? Why? "
   ]
  },
  {
   "cell_type": "markdown",
   "id": "compliant-moscow",
   "metadata": {},
   "source": []
  },
  {
   "cell_type": "markdown",
   "id": "burning-campaign",
   "metadata": {},
   "source": [
    "## 2.e.\n",
    "\n",
    "What other inputs of the gradient_descent function can we change to imporove the model?"
   ]
  },
  {
   "cell_type": "markdown",
   "id": "killing-example",
   "metadata": {},
   "source": []
  },
  {
   "cell_type": "markdown",
   "id": "lightweight-darwin",
   "metadata": {},
   "source": [
    "## Question 3.\n",
    "\n",
    "### 3.a. \n",
    "Write a calculate_y_hat(X, Y, with_intercept) function that computes the value of y_hat for your model based on whether or not an intercept term is specified within the model.\n",
    "\n",
    "Hint: Use sklearn.linear_model.LinearRegression library"
   ]
  },
  {
   "cell_type": "code",
   "execution_count": null,
   "id": "infrared-reynolds",
   "metadata": {},
   "outputs": [],
   "source": []
  },
  {
   "cell_type": "markdown",
   "id": "undefined-acting",
   "metadata": {},
   "source": [
    "### 3.b.\n",
    "\n",
    "Create a plot below comparing our fitted simple linear regression model on the observed data for when it includes an intercept v.s. when it does not include an intercept. Your plot should include at least the following:\n",
    "- A scatter plot of all the observed data\n",
    "- A line plot for the simple linear regression model without an intercept\n",
    "- A line plot for the simple linear regression model with an intercept\n",
    "- An appropriate title, a legend labeling which line contains and does not contain an intercept, and labels for both axes\n",
    "\n",
    "You should use different colors for the two line plots"
   ]
  },
  {
   "cell_type": "code",
   "execution_count": null,
   "id": "integrated-fellow",
   "metadata": {},
   "outputs": [],
   "source": []
  }
 ],
 "metadata": {
  "kernelspec": {
   "display_name": "Python 3 (ipykernel)",
   "language": "python",
   "name": "python3"
  },
  "language_info": {
   "codemirror_mode": {
    "name": "ipython",
    "version": 3
   },
   "file_extension": ".py",
   "mimetype": "text/x-python",
   "name": "python",
   "nbconvert_exporter": "python",
   "pygments_lexer": "ipython3",
   "version": "3.11.6"
  }
 },
 "nbformat": 4,
 "nbformat_minor": 5
}
