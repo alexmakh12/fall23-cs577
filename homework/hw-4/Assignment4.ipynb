{
 "cells": [
  {
   "cell_type": "markdown",
   "id": "configured-background",
   "metadata": {},
   "source": [
    "# Assignment 4: Linear Regression and Gradient Descent\n",
    "\n",
    "## Collaboration Policy\n",
    "\n",
    "This may be a group assignment. Please list the names of group members below if you choose to work with a group"
   ]
  },
  {
   "cell_type": "markdown",
   "id": "graduate-tractor",
   "metadata": {},
   "source": [
    "**Author**: *Alexandre Makhmudyantsev*\n",
    "\n",
    "**Collaborators**: *None*"
   ]
  },
  {
   "cell_type": "markdown",
   "id": "surrounded-turkish",
   "metadata": {},
   "source": [
    "## Scoring Breakdown\n",
    "\n",
    "|Question|Points|\n",
    "|---|---|\n",
    "|1.a|10|\n",
    "|1.b|10|\n",
    "|2.a|10|\n",
    "|2.b|10|\n",
    "|2.c|10|\n",
    "|2.d|10|\n",
    "|2.e|10|\n",
    "|3.a|20|\n",
    "|3.b|10|\n",
    "|**Total**|100|"
   ]
  },
  {
   "cell_type": "code",
   "execution_count": 190,
   "metadata": {},
   "outputs": [],
   "source": [
    "import numpy as np\n",
    "import pandas as pd\n",
    "import matplotlib.pyplot as plt \n",
    "from sklearn.linear_model import LinearRegression\n"
   ]
  },
  {
   "cell_type": "markdown",
   "id": "elementary-population",
   "metadata": {},
   "source": [
    "## Question 1. \n",
    "Suppose we create a linear model with parameters $\\vec{\\hat{\\beta}}=[\\hat{\\beta}_0,...,\\hat{\\beta}_p]$\n",
    "As we saw in lecture, such a model makes predictions $\\hat{y}=\\vec{\\hat{\\beta}}.\\vec{x}=\\sum{\\hat{\\beta}_ix_i}$ \n",
    "\n",
    "\n",
    "### 1.a. \n",
    "Suppose $\\vec{\\hat{\\beta}}=[1,2,1]$ and e receive an observation $x = [4, 2, 1]$. What $\\hat{y}$ value will\n",
    "this model predict for the given observation?"
   ]
  },
  {
   "cell_type": "markdown",
   "id": "valuable-french",
   "metadata": {},
   "source": []
  },
  {
   "cell_type": "markdown",
   "id": "beneficial-burke",
   "metadata": {},
   "source": [
    "### 1.b.\n",
    "Suppose the correct $y$ was 6.1. What will be the L2 loss for our prediction $\\hat{y}$ from question 1.a?"
   ]
  },
  {
   "cell_type": "markdown",
   "id": "listed-savannah",
   "metadata": {},
   "source": []
  },
  {
   "cell_type": "markdown",
   "id": "favorite-empire",
   "metadata": {},
   "source": [
    "## Question 2.\n",
    "\n",
    "The following function generates the dataset you need for the rest of the questions"
   ]
  },
  {
   "cell_type": "code",
   "execution_count": 191,
   "id": "aboriginal-jurisdiction",
   "metadata": {},
   "outputs": [],
   "source": [
    "def generate_dataset(gamma, std=1, num_samples=100, with_intercept=True):\n",
    "    \"\"\"\n",
    "    This function generates a synthetic dataset based on a give gamma value\n",
    "\n",
    "    !TODO: Finish doc string\n",
    "    \"\"\"\n",
    "    X = np.random.random_sample(num_samples)\n",
    "    e = np.random.randn(num_samples) * std \n",
    "    intercept = -int(with_intercept) * 2\n",
    "    Y = gamma * X + intercept + e\n",
    "    #X=X.reshape(-1, 1)\n",
    "    #Y=Y.reshape(-1, 1)\n",
    "    data=pd.DataFrame({'X':X, 'Y':Y})\n",
    "    return data"
   ]
  },
  {
   "cell_type": "code",
   "execution_count": 192,
   "id": "hollow-arthur",
   "metadata": {},
   "outputs": [
    {
     "data": {
      "text/html": [
       "<div>\n",
       "<style scoped>\n",
       "    .dataframe tbody tr th:only-of-type {\n",
       "        vertical-align: middle;\n",
       "    }\n",
       "\n",
       "    .dataframe tbody tr th {\n",
       "        vertical-align: top;\n",
       "    }\n",
       "\n",
       "    .dataframe thead th {\n",
       "        text-align: right;\n",
       "    }\n",
       "</style>\n",
       "<table border=\"1\" class=\"dataframe\">\n",
       "  <thead>\n",
       "    <tr style=\"text-align: right;\">\n",
       "      <th></th>\n",
       "      <th>X</th>\n",
       "      <th>Y</th>\n",
       "    </tr>\n",
       "  </thead>\n",
       "  <tbody>\n",
       "    <tr>\n",
       "      <th>0</th>\n",
       "      <td>0.952444</td>\n",
       "      <td>6.748486</td>\n",
       "    </tr>\n",
       "    <tr>\n",
       "      <th>1</th>\n",
       "      <td>0.362412</td>\n",
       "      <td>2.622568</td>\n",
       "    </tr>\n",
       "    <tr>\n",
       "      <th>2</th>\n",
       "      <td>0.937815</td>\n",
       "      <td>6.541217</td>\n",
       "    </tr>\n",
       "    <tr>\n",
       "      <th>3</th>\n",
       "      <td>0.120998</td>\n",
       "      <td>-1.173598</td>\n",
       "    </tr>\n",
       "    <tr>\n",
       "      <th>4</th>\n",
       "      <td>0.196201</td>\n",
       "      <td>0.733347</td>\n",
       "    </tr>\n",
       "    <tr>\n",
       "      <th>...</th>\n",
       "      <td>...</td>\n",
       "      <td>...</td>\n",
       "    </tr>\n",
       "    <tr>\n",
       "      <th>95</th>\n",
       "      <td>0.923010</td>\n",
       "      <td>6.561956</td>\n",
       "    </tr>\n",
       "    <tr>\n",
       "      <th>96</th>\n",
       "      <td>0.612196</td>\n",
       "      <td>6.299884</td>\n",
       "    </tr>\n",
       "    <tr>\n",
       "      <th>97</th>\n",
       "      <td>0.500966</td>\n",
       "      <td>0.671561</td>\n",
       "    </tr>\n",
       "    <tr>\n",
       "      <th>98</th>\n",
       "      <td>0.630300</td>\n",
       "      <td>5.569516</td>\n",
       "    </tr>\n",
       "    <tr>\n",
       "      <th>99</th>\n",
       "      <td>0.105995</td>\n",
       "      <td>-0.122942</td>\n",
       "    </tr>\n",
       "  </tbody>\n",
       "</table>\n",
       "<p>100 rows × 2 columns</p>\n",
       "</div>"
      ],
      "text/plain": [
       "           X         Y\n",
       "0   0.952444  6.748486\n",
       "1   0.362412  2.622568\n",
       "2   0.937815  6.541217\n",
       "3   0.120998 -1.173598\n",
       "4   0.196201  0.733347\n",
       "..       ...       ...\n",
       "95  0.923010  6.561956\n",
       "96  0.612196  6.299884\n",
       "97  0.500966  0.671561\n",
       "98  0.630300  5.569516\n",
       "99  0.105995 -0.122942\n",
       "\n",
       "[100 rows x 2 columns]"
      ]
     },
     "execution_count": 192,
     "metadata": {},
     "output_type": "execute_result"
    }
   ],
   "source": [
    "# Generate a dataset with a gamma value of 10\n",
    "data = generate_dataset(gamma=10)\n",
    "\n",
    "# Display the dataset\n",
    "data"
   ]
  },
  {
   "cell_type": "markdown",
   "id": "decent-fruit",
   "metadata": {},
   "source": [
    "### 2.a.\n",
    "\n",
    "Using the following functions (gradient descent, mse_loss, and mse_loss_derivative), find the best value of gamma that the gradient descent algorithm can find in 100 iterations for initial gamma=0.1 and $\\alpha=0.01$. "
   ]
  },
  {
   "cell_type": "code",
   "execution_count": 193,
   "id": "ruled-thousand",
   "metadata": {},
   "outputs": [],
   "source": [
    "# Initialize global variables\n",
    "x=data['X']\n",
    "y_obs=data['Y']\n",
    "\n",
    "# NOTE: I changed 'df' to 'loss_derivative_func' as I kept confusing it with data frame\n",
    "def gradient_descent(loss_derivative_func, initial_guess, alpha, n):\n",
    "    \"\"\"\n",
    "    Perform gradient descent to find the minimum of a loss function\n",
    "\n",
    "    Args:\n",
    "        loss_derivative_func (function): Function that computes the derivative of the loss function\n",
    "        initial_guess (float): Initial starting point\n",
    "        alpha (float): Step size to take in each iteration\n",
    "        n (int): Number of iterations to perform\n",
    "\n",
    "    Returns:\n",
    "        np.array: Array containing the sequence of guesses converging to the minimum\n",
    "    \"\"\"\n",
    "\n",
    "    guesses = [initial_guess]\n",
    "    guess = initial_guess\n",
    "    while len(guesses) < n:\n",
    "        guess = guess - alpha * loss_derivative_func(guess)\n",
    "        guesses.append(guess)\n",
    "    return np.array(guesses)\n",
    "\n",
    "def mse_loss(gamma):\n",
    "    \"\"\"\n",
    "    Calculate the mean squared error loss for the model\n",
    "\n",
    "    Args:\n",
    "        gamma (float): The model parameter\n",
    "\n",
    "    Returns:\n",
    "        float: The mean squared error between the predicted and observed values\n",
    "    \"\"\"\n",
    "    y_hat = gamma * x\n",
    "    return np.mean((y_hat - y_obs) ** 2)  \n",
    "\n",
    "def mse_loss_derivative(gamma):\n",
    "    \"\"\"\n",
    "    Compute the derivative of the MSE loss function with respect to gamma\n",
    "\n",
    "    Args:\n",
    "        gamma (float): The model parameter\n",
    "\n",
    "    Returns:\n",
    "        float: The derivative of the MSE loss function\n",
    "    \"\"\"\n",
    "    y_hat = gamma * x\n",
    "    return np.mean(2 * (y_hat - y_obs) * x)"
   ]
  },
  {
   "cell_type": "code",
   "execution_count": 194,
   "id": "offshore-sacramento",
   "metadata": {},
   "outputs": [
    {
     "name": "stdout",
     "output_type": "stream",
     "text": [
      "Gamma: 3.897707152717001\n",
      "Loss: 6.233660639120721\n"
     ]
    }
   ],
   "source": [
    "# Initialize gamma for GD ; initial starting point\n",
    "initial_gamma = 0.1\n",
    "\n",
    "# Initialize alpha for GD ; determines the size of steps to take toward the minimum\n",
    "alpha = 0.01\n",
    "\n",
    "# Initialize the number of iterations to perform\n",
    "iterations = 100\n",
    "\n",
    "# Run the GD algorithm to find the optimal value of gamma.\n",
    "# NOTE: `gradient_descent` takes the derivative function `mse_loss_derivative` and calls it within the function\n",
    "gammas = gradient_descent(mse_loss_derivative, initial_gamma, alpha, iterations)\n",
    "\n",
    "# Retrieve the last value from the list of gamma values which is the value of gamma after the final iteration\n",
    "best_gamma = gammas[-1] \n",
    "\n",
    "# Print the best gamma\n",
    "print(\"Gamma:\", best_gamma)\n",
    "\n",
    "# Calculate and display print the MSE loss for the best gamma\n",
    "print(\"Loss:\", mse_loss(best_gamma))\n",
    "\n"
   ]
  },
  {
   "cell_type": "markdown",
   "id": "extra-discussion",
   "metadata": {},
   "source": [
    "### 2.b.\n",
    "Create a plot below showing the fitted simple linear regression model on the observed data for when you pick the gamma selected by the above algorithm. Your plot should include at least the following:\n",
    "- A scatter plot of all the observed data\n",
    "- A line plot for the simple linear regression model without an intercept\n",
    "- An appropriate title, a legend labeling which line does not contain an intercept, and labels for both axes"
   ]
  },
  {
   "cell_type": "code",
   "execution_count": 195,
   "id": "lucky-reservoir",
   "metadata": {},
   "outputs": [
    {
     "data": {
      "image/png": "[encoded data removed]",
      "text/plain": [
       "<Figure size 640x480 with 1 Axes>"
      ]
     },
     "metadata": {},
     "output_type": "display_data"
    }
   ],
   "source": [
    "# Create a plot of the observed data\n",
    "plt.scatter(x, y_obs, label='Observed Data')\n",
    "\n",
    "# Create a regression line\n",
    "y_pred = best_gamma * x\n",
    "plt.plot(x, y_pred, color='red', label='Regression Line (No Intercept)')\n",
    "\n",
    "# Add titles and labels\n",
    "plt.title('Simple Linear Regression with Gradient Descent')\n",
    "plt.xlabel('X')\n",
    "plt.ylabel('Y')\n",
    "plt.legend()\n",
    "\n",
    "# Show the plot\n",
    "plt.show()\n"
   ]
  },
  {
   "cell_type": "markdown",
   "id": "supported-young",
   "metadata": {},
   "source": [
    "### 2.c.\n",
    "\n",
    "Use a different value of $\\alpha=0.1$ and repeat 2.a and 2.b.\n"
   ]
  },
  {
   "cell_type": "code",
   "execution_count": 196,
   "id": "emerging-board",
   "metadata": {},
   "outputs": [
    {
     "name": "stdout",
     "output_type": "stream",
     "text": [
      "Gamma: 7.17246590913459\n",
      "Loss: 2.075551716373436\n"
     ]
    }
   ],
   "source": [
    "# Initialize gamma for GD ; initial starting point\n",
    "initial_gamma = 0.1\n",
    "\n",
    "# Initialize alpha for GD ; determines the size of steps to take toward the minimum\n",
    "# NOTE: Changed alpha\n",
    "alpha = 0.1\n",
    "\n",
    "# Initialize the number of iterations to perform\n",
    "iterations = 100\n",
    "\n",
    "# Run the GD algorithm to find the optimal value of gamma.\n",
    "# NOTE: `gradient_descent` takes the derivative function `mse_loss_derivative` and calls it within the function\n",
    "gammas = gradient_descent(mse_loss_derivative, initial_gamma, alpha, iterations)\n",
    "\n",
    "# Retrieve the last value from the list of gamma values which is the value of gamma after the final iteration\n",
    "best_gamma = gammas[-1] \n",
    "\n",
    "# Print the best gamma\n",
    "print(\"Gamma:\", best_gamma)\n",
    "\n",
    "# Calculate and display print the MSE loss for the best gamma\n",
    "print(\"Loss:\", mse_loss(best_gamma))"
   ]
  },
  {
   "cell_type": "code",
   "execution_count": 197,
   "metadata": {},
   "outputs": [
    {
     "data": {
      "image/png": "[encoded data removed]",
      "text/plain": [
       "<Figure size 640x480 with 1 Axes>"
      ]
     },
     "metadata": {},
     "output_type": "display_data"
    }
   ],
   "source": [
    "# Create a plot of the observed data\n",
    "plt.scatter(x, y_obs, label='Observed Data')\n",
    "\n",
    "# Create a regression line\n",
    "y_pred = best_gamma * x\n",
    "plt.plot(x, y_pred, color='red', label='Regression Line (No Intercept)')\n",
    "\n",
    "# Add titles and labels\n",
    "plt.title('Simple Linear Regression with Gradient Descent')\n",
    "plt.xlabel('X')\n",
    "plt.ylabel('Y')\n",
    "plt.legend()\n",
    "\n",
    "# Show the plot\n",
    "plt.show()\n"
   ]
  },
  {
   "cell_type": "markdown",
   "id": "understood-haven",
   "metadata": {},
   "source": [
    "### 2.d. Which value of $\\alpha$ resulted in a better model? Why? "
   ]
  },
  {
   "cell_type": "markdown",
   "metadata": {},
   "source": [
    "Based off of the graphs and the lower MSE the better value of alpha was 0.1 in part B, compared to 0.01 in part A.\n",
    "\n",
    "This is because alpha can be seen as a \"learning rate\" as it determines the size of the steps the algorithm takes the larger the alpha the bigger the steps. Given a higher alpha and the ability to take larger steps and the algorithm can find the minimum much faster but it may also allow the algorithm to jump out of a local minimum which could happen with a smaller learning step size. However although a higher alpha results in faster processing time it may overshoot the minimum if the steps are too large resulting in less accuracy. "
   ]
  },
  {
   "cell_type": "markdown",
   "id": "burning-campaign",
   "metadata": {},
   "source": [
    "### 2.e. What other inputs of the gradient_descent function can we change to imporove the model?"
   ]
  },
  {
   "cell_type": "markdown",
   "id": "killing-example",
   "metadata": {},
   "source": [
    "Another input of the gradient_descent function that we can chance to improve the model is  increasing the number of iterations allowing the simulation to run through more steps. For example if we raise the number of iterations in part a closer to 1000 (as shown below) we can see begin to see similar losses for the two different gamma values. Although given the increased accuracy with increasing the number of iterations comes computational expenses. Also, perhaps changing the initial guess can influence and improve the model assuming the guess is closer to the minimum, but in doing so can yield the opposite result as well."
   ]
  },
  {
   "cell_type": "code",
   "execution_count": 198,
   "metadata": {},
   "outputs": [
    {
     "name": "stdout",
     "output_type": "stream",
     "text": [
      "Gamma: 7.160688310042073\n",
      "Loss: 2.0756275263559476\n"
     ]
    }
   ],
   "source": [
    "# Initialize gamma for GD ; initial starting point\n",
    "initial_gamma = 0.1\n",
    "\n",
    "# Initialize alpha for GD ; determines the size of steps to take toward the minimum\n",
    "alpha = 0.01\n",
    "\n",
    "# Initialize the number of iterations to perform\n",
    "iterations = 800\n",
    "\n",
    "# Run the GD algorithm to find the optimal value of gamma.\n",
    "gammas = gradient_descent(mse_loss_derivative, initial_gamma, alpha, iterations)\n",
    "\n",
    "# Retrieve the last value from the list of gamma values which is the value of gamma after the final iteration\n",
    "best_gamma = gammas[-1] \n",
    "\n",
    "# Print the best gamma\n",
    "print(\"Gamma:\", best_gamma)\n",
    "print(\"Loss:\", mse_loss(best_gamma))"
   ]
  },
  {
   "cell_type": "markdown",
   "id": "lightweight-darwin",
   "metadata": {},
   "source": [
    "## Question 3.\n",
    "\n",
    "### 3.a. \n",
    "Write a calculate_y_hat(X, Y, with_intercept) function that computes the value of y_hat for your model based on whether or not an intercept term is specified within the model.\n",
    "\n",
    "Hint: Use sklearn.linear_model.LinearRegression library"
   ]
  },
  {
   "cell_type": "code",
   "execution_count": null,
   "id": "infrared-reynolds",
   "metadata": {},
   "outputs": [],
   "source": []
  },
  {
   "cell_type": "markdown",
   "id": "undefined-acting",
   "metadata": {},
   "source": [
    "### 3.b.\n",
    "\n",
    "Create a plot below comparing our fitted simple linear regression model on the observed data for when it includes an intercept v.s. when it does not include an intercept. Your plot should include at least the following:\n",
    "- A scatter plot of all the observed data\n",
    "- A line plot for the simple linear regression model without an intercept\n",
    "- A line plot for the simple linear regression model with an intercept\n",
    "- An appropriate title, a legend labeling which line contains and does not contain an intercept, and labels for both axes\n",
    "\n",
    "You should use different colors for the two line plots"
   ]
  },
  {
   "cell_type": "code",
   "execution_count": null,
   "id": "integrated-fellow",
   "metadata": {},
   "outputs": [],
   "source": []
  }
 ],
 "metadata": {
  "kernelspec": {
   "display_name": "Python 3 (ipykernel)",
   "language": "python",
   "name": "python3"
  },
  "language_info": {
   "codemirror_mode": {
    "name": "ipython",
    "version": 3
   },
   "file_extension": ".py",
   "mimetype": "text/x-python",
   "name": "python",
   "nbconvert_exporter": "python",
   "pygments_lexer": "ipython3",
   "version": "3.11.6"
  }
 },
 "nbformat": 4,
 "nbformat_minor": 5
}
