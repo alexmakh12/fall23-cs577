{
 "cells": [
  {
   "cell_type": "markdown",
   "id": "coupled-transmission",
   "metadata": {},
   "source": [
    "# Assignment 2: Probability Sampling and Pandas\n",
    "\n",
    "#### **Author** : Alexandre Makhmudyantsev\n",
    "\n",
    "## Collaboration Policy\n",
    "\n",
    "Data science is a collaborative activity. While you may talk with others about\n",
    "the homework, we ask that you **write your solutions individually**. If you do\n",
    "discuss the assignments with others please **include their names** below.\n",
    "\n",
    "####  **Collaborators**: None"
   ]
  },
  {
   "cell_type": "markdown",
   "id": "documented-lodge",
   "metadata": {},
   "source": [
    "## Necessary Imports"
   ]
  },
  {
   "cell_type": "code",
   "execution_count": 1,
   "id": "bfc2d0a1",
   "metadata": {},
   "outputs": [],
   "source": [
    "from scipy import special\n",
    "import numpy as np\n",
    "import matplotlib.pyplot as plt\n",
    "import pandas as pd"
   ]
  },
  {
   "cell_type": "markdown",
   "id": "generous-defendant",
   "metadata": {},
   "source": [
    "## Scoring Breakdown\n",
    "\n",
    "|Question|Points|\n",
    "|---|---|\n",
    "|1|30|\n",
    "|2|10|\n",
    "|3|10|\n",
    "|4|10|\n",
    "|5|40|\n",
    "|**Total**|100|"
   ]
  },
  {
   "cell_type": "markdown",
   "id": "duplicate-belief",
   "metadata": {},
   "source": [
    "# Part 1: Probability\n",
    "\n",
    "## Question 1\n",
    "\n",
    "1.1. Suppose you sample 100 times at random with replacement from a population in which 26% of the individuals are successes. Write a Python expression that evaluates to the chance that the sample has 20 successes. \n"
   ]
  },
  {
   "cell_type": "markdown",
   "id": "lightweight-swift",
   "metadata": {},
   "source": [
    "One way to compute the *binomial coefficients* $\\binom{n}{k} = \\frac{n!}{k!(n-k)!}$ is to use the `SciPy` module `special`. `SciPy` is a collection of Python-based software for math, probability, statistics, science, and engineering.\n",
    "\n",
    "Hint 1:`special.comb(n, k)` evaluates to $\\binom{n}{k}$. \n",
    "\n",
    "Hint 2: `special.factorial(n)` evaluates to $n!$."
   ]
  },
  {
   "cell_type": "code",
   "execution_count": 2,
   "id": "fifteen-procurement",
   "metadata": {},
   "outputs": [
    {
     "name": "stdout",
     "output_type": "stream",
     "text": [
      "0.036911003560024636\n"
     ]
    }
   ],
   "source": [
    "# Initialize given sample size\n",
    "n = 100\n",
    "\n",
    "# Initialize number of successes\n",
    "k = 20\n",
    "\n",
    "# Initialize probability of success\n",
    "p = 0.26\n",
    "\n",
    "# Compute the probability of 20 successes\n",
    "prob_20_successes = special.comb(n, k) * (p**k) * (1-p)**(n-k)\n",
    "\n",
    "print(prob_20_successes)"
   ]
  },
  {
   "cell_type": "markdown",
   "id": "fiscal-backing",
   "metadata": {},
   "source": [
    "1.2. Complete the cell with a Python expression that evaluates to an array whose elements are the chances of $k$ successes for $k = 0, 1, 2, \\ldots, 100$. That is, `all_probs[k]` should contain $P(X = k)$, where $X$ is the random variable describing the number of successes drawn from the scenario outlined above."
   ]
  },
  {
   "cell_type": "code",
   "execution_count": 3,
   "id": "right-israeli",
   "metadata": {},
   "outputs": [
    {
     "name": "stdout",
     "output_type": "stream",
     "text": [
      "[8.37860995e-14 2.94383593e-12 5.11988762e-11 5.87633949e-10\n",
      " 5.00680006e-09 3.37756026e-08 1.87895807e-07 8.86519986e-07\n",
      " 3.62095494e-06 1.30049913e-05 4.15808236e-05 1.19532097e-04\n",
      " 3.11483416e-04 7.40825421e-04 1.61751651e-03 3.25834857e-03\n",
      " 6.08188374e-03 1.05586916e-02 1.71063488e-02 2.59393567e-02\n",
      " 3.69110036e-02 4.94046894e-02 6.23324522e-02 7.42715705e-02\n",
      " 8.37227951e-02 8.94249963e-02 9.06334422e-02 8.72766481e-02\n",
      " 7.99474315e-02 6.97397911e-02 5.79908353e-02 4.60084221e-02\n",
      " 3.48560427e-02 2.52356608e-02 1.74723852e-02 1.15762984e-02\n",
      " 7.34382295e-03 4.46315609e-03 2.59980430e-03 1.45214294e-03\n",
      " 7.78073886e-04 4.00064358e-04 1.97457762e-04 9.35783487e-05\n",
      " 4.25930936e-05 1.86232866e-05 7.82353108e-06 3.15820519e-06\n",
      " 1.22522713e-06 4.56841443e-07 1.63722096e-07 5.63960584e-08\n",
      " 1.86716680e-08 5.94141806e-09 1.81692014e-09 5.33915598e-10\n",
      " 1.50743545e-10 4.08844512e-11 1.06497708e-11 2.66366234e-12\n",
      " 6.39518931e-13 1.47341535e-13 3.25641491e-14 6.90119677e-15\n",
      " 1.40180559e-15 2.72783791e-16 5.08258088e-17 9.06212484e-18\n",
      " 1.54517152e-18 2.51778830e-19 3.91763972e-20 5.81606201e-21\n",
      " 8.23068835e-22 1.10920791e-22 1.42195755e-23 1.73196991e-24\n",
      " 2.00174332e-25 2.19215133e-26 2.27114778e-27 2.22219728e-28\n",
      " 2.04952655e-29 1.77803437e-30 1.44750986e-31 1.10295443e-32\n",
      " 7.84275835e-34 5.18694352e-35 3.17867375e-36 1.79719982e-37\n",
      " 9.32821774e-39 4.41907673e-40 1.89768160e-41 7.32695598e-43\n",
      " 2.51837206e-44 7.61147034e-46 1.99150029e-47 4.41926096e-49\n",
      " 8.08704849e-51 1.17170945e-52 1.26025010e-54 8.94526413e-57\n",
      " 3.14293064e-59]\n"
     ]
    }
   ],
   "source": [
    "# Initialize an array to store the probabilities of k successes\n",
    "all_probs = np.zeros(n+1)\n",
    "\n",
    "# Loop over all possible number of successes from 0 to n (inclusive)\n",
    "for k in range(n+1):\n",
    "\n",
    "    # Compute the probability of k successes using the binomial formula\n",
    "    all_probs[k] = special.comb(n, k) * (p**k) * ((1-p)**(n-k))\n",
    "\n",
    "print(all_probs)"
   ]
  },
  {
   "cell_type": "markdown",
   "id": "surface-botswana",
   "metadata": {},
   "source": [
    "1.3. Complete the cell with an expression that evaluates to the chance that the number of successes in the sample is in the interval $26 \\pm 10$ (inclusive on both sides). In other words, determine $P(16 \\leq X \\leq 36)$. **Hint: You might want to apply your Python indexing knowledge here.**"
   ]
  },
  {
   "cell_type": "code",
   "execution_count": 4,
   "id": "breeding-sellers",
   "metadata": {},
   "outputs": [
    {
     "name": "stdout",
     "output_type": "stream",
     "text": [
      "0.9838345682140125\n"
     ]
    }
   ],
   "source": [
    "# Sum the probabilities from the interval 16 to 36\n",
    "prob_interval = np.sum(all_probs[16:37])\n",
    "\n",
    "print(prob_interval)"
   ]
  },
  {
   "cell_type": "markdown",
   "id": "loved-emphasis",
   "metadata": {},
   "source": [
    "## Question 2\n",
    "Consider a sample of size $n$ drawn at random with replacement from a population in which a proportion $p$ of the individuals are called successes.\n",
    "\n",
    "Let $S$ be the random variable that denotes the number of successes in our sample. (As stated above, $S$ follows the binomial distribution.) Then, the probability that the number of successes in our sample is **at most** $s$ (where $0 \\leq s \\leq n$) is\n",
    "\n",
    "$$P(S \\leq s) = P(S = 0) + P(S = 1) + ... + P(S = s) = \\sum_{k=0}^s \\binom{n}{k}p^k(1-p)^{n-k}$$\n",
    "\n",
    "We obtain this by summing the probability that the number of successes is exactly $k$, for each value of $k = 0, 1, 2, ..., s$.\n",
    "\n",
    "\n",
    "Please fill in the function `prob_at_most` which takes $n$, $p$, and $s$ and returns $P(S \\le s)$ as defined above. If the inputs are invalid: for instance, if $p > 1$ OR $s > n$ then return 0.\" "
   ]
  },
  {
   "cell_type": "code",
   "execution_count": 5,
   "id": "significant-sculpture",
   "metadata": {},
   "outputs": [],
   "source": [
    "def prob_at_most(n, p, s):\n",
    "    \"\"\" \n",
    "    Calculate the cumulative probability of obtaining at most `s` successes in \n",
    "    a sample of size `n` drawn with replacement, given success probability `p`.\n",
    "    \n",
    "\n",
    "    Parameters:\n",
    "    - n (int) : Sample size.\n",
    "    - p (float) : Probability of success for an individual trial. Value should be between 0 and 1.\n",
    "    - s (int) L Number of successes at most\n",
    "    \"\"\"\n",
    "    # Check for invalid input values\n",
    "    if p > 1 or s > n:\n",
    "        return 0\n",
    "\n",
    "    # Calculate the cumulative binomial probability for successes from 0 to `s`\n",
    "    cumulative_prob = sum([special.comb(n, k) * (p**k) * ((1-p)**(n-k)) for k in range(s+1)])\n",
    "\n",
    "    return cumulative_prob\n"
   ]
  },
  {
   "cell_type": "markdown",
   "id": "seven-federal",
   "metadata": {},
   "source": [
    "## Question 3\n",
    "\n",
    "In an election, supporters of Candidate C are in a minority. Only 45% of the voters in the population favor the candidate.\n",
    "\n",
    "Suppose a survey organization takes a sample of 200 voters at random with replacement from this population. Use `prob_at_most` to write an expression that evaluates to the chance that a majority (more than half) of the sampled voters favor Candidate C."
   ]
  },
  {
   "cell_type": "code",
   "execution_count": 6,
   "id": "lonely-nashville",
   "metadata": {},
   "outputs": [
    {
     "name": "stdout",
     "output_type": "stream",
     "text": [
      "0.06807524986263847\n"
     ]
    }
   ],
   "source": [
    "# Calculate the probability of getting more than 100 successes in a sample of 200 with a success rate of 45%.\n",
    "print(1- prob_at_most(200, .45,100))"
   ]
  },
  {
   "cell_type": "markdown",
   "id": "disabled-booking",
   "metadata": {},
   "source": [
    "# Part 2: Pandas\n",
    "## Question 4\n",
    "For the following DataFrame (fruit_info), add a column by d['new column name'] = ... and assigning a list or array of values to the column. Add a column of integers containing 1, 2, 3, and 4 called rank1 to the fruit_info table which expresses your personal preference about the taste ordering for each fruit (1 is tastiest; 4 is least tasty).\n"
   ]
  },
  {
   "cell_type": "code",
   "execution_count": 7,
   "id": "divine-surface",
   "metadata": {},
   "outputs": [
    {
     "data": {
      "text/html": [
       "<div>\n",
       "<style scoped>\n",
       "    .dataframe tbody tr th:only-of-type {\n",
       "        vertical-align: middle;\n",
       "    }\n",
       "\n",
       "    .dataframe tbody tr th {\n",
       "        vertical-align: top;\n",
       "    }\n",
       "\n",
       "    .dataframe thead th {\n",
       "        text-align: right;\n",
       "    }\n",
       "</style>\n",
       "<table border=\"1\" class=\"dataframe\">\n",
       "  <thead>\n",
       "    <tr style=\"text-align: right;\">\n",
       "      <th></th>\n",
       "      <th>fruit</th>\n",
       "      <th>color</th>\n",
       "    </tr>\n",
       "  </thead>\n",
       "  <tbody>\n",
       "    <tr>\n",
       "      <th>0</th>\n",
       "      <td>apple</td>\n",
       "      <td>red</td>\n",
       "    </tr>\n",
       "    <tr>\n",
       "      <th>1</th>\n",
       "      <td>orange</td>\n",
       "      <td>orange</td>\n",
       "    </tr>\n",
       "    <tr>\n",
       "      <th>2</th>\n",
       "      <td>banana</td>\n",
       "      <td>yellow</td>\n",
       "    </tr>\n",
       "    <tr>\n",
       "      <th>3</th>\n",
       "      <td>raspberry</td>\n",
       "      <td>pink</td>\n",
       "    </tr>\n",
       "  </tbody>\n",
       "</table>\n",
       "</div>"
      ],
      "text/plain": [
       "       fruit   color\n",
       "0      apple     red\n",
       "1     orange  orange\n",
       "2     banana  yellow\n",
       "3  raspberry    pink"
      ]
     },
     "execution_count": 7,
     "metadata": {},
     "output_type": "execute_result"
    }
   ],
   "source": [
    "# Initialize a fruit into dataframe which contains the fields fruit and color\n",
    "fruit_info = pd.DataFrame(\n",
    "    data={'fruit': ['apple', 'orange', 'banana', 'raspberry'],\n",
    "          'color': ['red', 'orange', 'yellow', 'pink']\n",
    "          })\n",
    "\n",
    "# Display the fruit info dataframe\n",
    "fruit_info"
   ]
  },
  {
   "cell_type": "code",
   "execution_count": 8,
   "id": "adjacent-eating",
   "metadata": {},
   "outputs": [
    {
     "data": {
      "text/html": [
       "<div>\n",
       "<style scoped>\n",
       "    .dataframe tbody tr th:only-of-type {\n",
       "        vertical-align: middle;\n",
       "    }\n",
       "\n",
       "    .dataframe tbody tr th {\n",
       "        vertical-align: top;\n",
       "    }\n",
       "\n",
       "    .dataframe thead th {\n",
       "        text-align: right;\n",
       "    }\n",
       "</style>\n",
       "<table border=\"1\" class=\"dataframe\">\n",
       "  <thead>\n",
       "    <tr style=\"text-align: right;\">\n",
       "      <th></th>\n",
       "      <th>fruit</th>\n",
       "      <th>color</th>\n",
       "      <th>rank1</th>\n",
       "    </tr>\n",
       "  </thead>\n",
       "  <tbody>\n",
       "    <tr>\n",
       "      <th>0</th>\n",
       "      <td>apple</td>\n",
       "      <td>red</td>\n",
       "      <td>1</td>\n",
       "    </tr>\n",
       "    <tr>\n",
       "      <th>1</th>\n",
       "      <td>orange</td>\n",
       "      <td>orange</td>\n",
       "      <td>2</td>\n",
       "    </tr>\n",
       "    <tr>\n",
       "      <th>2</th>\n",
       "      <td>banana</td>\n",
       "      <td>yellow</td>\n",
       "      <td>3</td>\n",
       "    </tr>\n",
       "    <tr>\n",
       "      <th>3</th>\n",
       "      <td>raspberry</td>\n",
       "      <td>pink</td>\n",
       "      <td>4</td>\n",
       "    </tr>\n",
       "  </tbody>\n",
       "</table>\n",
       "</div>"
      ],
      "text/plain": [
       "       fruit   color rank1\n",
       "0      apple     red     1\n",
       "1     orange  orange     2\n",
       "2     banana  yellow     3\n",
       "3  raspberry    pink     4"
      ]
     },
     "execution_count": 8,
     "metadata": {},
     "output_type": "execute_result"
    }
   ],
   "source": [
    "# To the fruit info dataframe add a field called rank1 and assign each fruit in the dataframe a rank\n",
    "fruit_info[\"rank1\"] = '1', '2', '3', '4'\n",
    "\n",
    "# Display the fruit into dataframe\n",
    "fruit_info"
   ]
  },
  {
   "cell_type": "markdown",
   "id": "worldwide-bookmark",
   "metadata": {},
   "source": [
    "## Question 5\n",
    "\n",
    " *Use the babyNames DataFrame and perform the following operations:*"
   ]
  },
  {
   "cell_type": "code",
   "execution_count": 11,
   "id": "ee5b3d68",
   "metadata": {},
   "outputs": [
    {
     "data": {
      "text/html": [
       "<div>\n",
       "<style scoped>\n",
       "    .dataframe tbody tr th:only-of-type {\n",
       "        vertical-align: middle;\n",
       "    }\n",
       "\n",
       "    .dataframe tbody tr th {\n",
       "        vertical-align: top;\n",
       "    }\n",
       "\n",
       "    .dataframe thead th {\n",
       "        text-align: right;\n",
       "    }\n",
       "</style>\n",
       "<table border=\"1\" class=\"dataframe\">\n",
       "  <thead>\n",
       "    <tr style=\"text-align: right;\">\n",
       "      <th></th>\n",
       "      <th>State</th>\n",
       "      <th>Sex</th>\n",
       "      <th>Year</th>\n",
       "      <th>Name</th>\n",
       "      <th>Count</th>\n",
       "      <th>Count (All Years)</th>\n",
       "    </tr>\n",
       "  </thead>\n",
       "  <tbody>\n",
       "    <tr>\n",
       "      <th>149391</th>\n",
       "      <td>CA</td>\n",
       "      <td>F</td>\n",
       "      <td>2000</td>\n",
       "      <td>Aaliyah</td>\n",
       "      <td>120</td>\n",
       "      <td>11566</td>\n",
       "    </tr>\n",
       "    <tr>\n",
       "      <th>331432</th>\n",
       "      <td>CA</td>\n",
       "      <td>M</td>\n",
       "      <td>2000</td>\n",
       "      <td>Aaron</td>\n",
       "      <td>1362</td>\n",
       "      <td>77562</td>\n",
       "    </tr>\n",
       "    <tr>\n",
       "      <th>149538</th>\n",
       "      <td>CA</td>\n",
       "      <td>F</td>\n",
       "      <td>2000</td>\n",
       "      <td>Abby</td>\n",
       "      <td>76</td>\n",
       "      <td>3404</td>\n",
       "    </tr>\n",
       "  </tbody>\n",
       "</table>\n",
       "</div>"
      ],
      "text/plain": [
       "       State Sex  Year     Name  Count  Count (All Years)\n",
       "149391    CA   F  2000  Aaliyah    120              11566\n",
       "331432    CA   M  2000    Aaron   1362              77562\n",
       "149538    CA   F  2000     Abby     76               3404"
      ]
     },
     "execution_count": 11,
     "metadata": {},
     "output_type": "execute_result"
    }
   ],
   "source": [
    "#Initialize the baby names dataframe to use for the subsequent problems\n",
    "baby_names_df = pd.read_csv('./data/babyNames.csv')\n",
    "\n",
    "# Insert column 'Count (All Years)' that is sum of count of entries in each Name group\n",
    "baby_names_df['Count (All Years)'] = baby_names_df.groupby('Name')['Count'].transform('sum')\n",
    "\n",
    "# Filter by count sum and year conditions, sort, get first 3\n",
    "baby_names_df[(baby_names_df['Count (All Years)'] > 3000) & (baby_names_df['Year'] == 2000)].sort_values('Name').head(3)"
   ]
  },
  {
   "cell_type": "markdown",
   "id": "78765dc5",
   "metadata": {},
   "source": [
    "\n",
    "##### 5.1. Find the first three names (ordered alphabetically) in Year 2000 that have larger than 3000 counts."
   ]
  },
  {
   "cell_type": "code",
   "execution_count": 12,
   "id": "imposed-literacy",
   "metadata": {},
   "outputs": [
    {
     "data": {
      "text/html": [
       "<div>\n",
       "<style scoped>\n",
       "    .dataframe tbody tr th:only-of-type {\n",
       "        vertical-align: middle;\n",
       "    }\n",
       "\n",
       "    .dataframe tbody tr th {\n",
       "        vertical-align: top;\n",
       "    }\n",
       "\n",
       "    .dataframe thead th {\n",
       "        text-align: right;\n",
       "    }\n",
       "</style>\n",
       "<table border=\"1\" class=\"dataframe\">\n",
       "  <thead>\n",
       "    <tr style=\"text-align: right;\">\n",
       "      <th></th>\n",
       "      <th>State</th>\n",
       "      <th>Sex</th>\n",
       "      <th>Year</th>\n",
       "      <th>Name</th>\n",
       "      <th>Count</th>\n",
       "      <th>Count (All Years)</th>\n",
       "    </tr>\n",
       "  </thead>\n",
       "  <tbody>\n",
       "    <tr>\n",
       "      <th>331391</th>\n",
       "      <td>CA</td>\n",
       "      <td>M</td>\n",
       "      <td>2000</td>\n",
       "      <td>Andrew</td>\n",
       "      <td>3600</td>\n",
       "      <td>150178</td>\n",
       "    </tr>\n",
       "    <tr>\n",
       "      <th>331389</th>\n",
       "      <td>CA</td>\n",
       "      <td>M</td>\n",
       "      <td>2000</td>\n",
       "      <td>Anthony</td>\n",
       "      <td>3839</td>\n",
       "      <td>182492</td>\n",
       "    </tr>\n",
       "    <tr>\n",
       "      <th>331395</th>\n",
       "      <td>CA</td>\n",
       "      <td>M</td>\n",
       "      <td>2000</td>\n",
       "      <td>Christopher</td>\n",
       "      <td>3337</td>\n",
       "      <td>222367</td>\n",
       "    </tr>\n",
       "  </tbody>\n",
       "</table>\n",
       "</div>"
      ],
      "text/plain": [
       "       State Sex  Year         Name  Count  Count (All Years)\n",
       "331391    CA   M  2000       Andrew   3600             150178\n",
       "331389    CA   M  2000      Anthony   3839             182492\n",
       "331395    CA   M  2000  Christopher   3337             222367"
      ]
     },
     "execution_count": 12,
     "metadata": {},
     "output_type": "execute_result"
    }
   ],
   "source": [
    "# Filter the baby names dataframe for rows where count is greater then 3000 and the years is 2000\n",
    "baby_names_filtered_df = baby_names_df[(baby_names_df['Count'] > 3000) & (baby_names_df['Year'] == 2000)]\n",
    "\n",
    "# Sort the name feild alphabetically and sample the top 3 names\n",
    "baby_names_filtered_sorted_df = baby_names_filtered_df.sort_values('Name').head(3)\n",
    "\n",
    "# Display the filtered and sorted dataframe\n",
    "baby_names_filtered_sorted_df"
   ]
  },
  {
   "cell_type": "markdown",
   "id": "cdf9ce63",
   "metadata": {},
   "source": []
  },
  {
   "cell_type": "markdown",
   "id": "cloudy-memorial",
   "metadata": {},
   "source": [
    "5.2. Find the first four names (ordered by Year) that start with “Ma” and ends with “i”."
   ]
  },
  {
   "cell_type": "code",
   "execution_count": null,
   "id": "durable-motion",
   "metadata": {},
   "outputs": [
    {
     "data": {
      "text/html": [
       "<div>\n",
       "<style scoped>\n",
       "    .dataframe tbody tr th:only-of-type {\n",
       "        vertical-align: middle;\n",
       "    }\n",
       "\n",
       "    .dataframe tbody tr th {\n",
       "        vertical-align: top;\n",
       "    }\n",
       "\n",
       "    .dataframe thead th {\n",
       "        text-align: right;\n",
       "    }\n",
       "</style>\n",
       "<table border=\"1\" class=\"dataframe\">\n",
       "  <thead>\n",
       "    <tr style=\"text-align: right;\">\n",
       "      <th></th>\n",
       "      <th>State</th>\n",
       "      <th>Sex</th>\n",
       "      <th>Year</th>\n",
       "      <th>Name</th>\n",
       "      <th>Count</th>\n",
       "    </tr>\n",
       "  </thead>\n",
       "  <tbody>\n",
       "    <tr>\n",
       "      <th>229265</th>\n",
       "      <td>CA</td>\n",
       "      <td>M</td>\n",
       "      <td>1913</td>\n",
       "      <td>Masami</td>\n",
       "      <td>6</td>\n",
       "    </tr>\n",
       "    <tr>\n",
       "      <th>229285</th>\n",
       "      <td>CA</td>\n",
       "      <td>M</td>\n",
       "      <td>1913</td>\n",
       "      <td>Masaji</td>\n",
       "      <td>5</td>\n",
       "    </tr>\n",
       "    <tr>\n",
       "      <th>229627</th>\n",
       "      <td>CA</td>\n",
       "      <td>M</td>\n",
       "      <td>1914</td>\n",
       "      <td>Masayoshi</td>\n",
       "      <td>5</td>\n",
       "    </tr>\n",
       "    <tr>\n",
       "      <th>230814</th>\n",
       "      <td>CA</td>\n",
       "      <td>M</td>\n",
       "      <td>1917</td>\n",
       "      <td>Masayuki</td>\n",
       "      <td>5</td>\n",
       "    </tr>\n",
       "  </tbody>\n",
       "</table>\n",
       "</div>"
      ],
      "text/plain": [
       "       State Sex  Year       Name  Count\n",
       "229265    CA   M  1913     Masami      6\n",
       "229285    CA   M  1913     Masaji      5\n",
       "229627    CA   M  1914  Masayoshi      5\n",
       "230814    CA   M  1917   Masayuki      5"
      ]
     },
     "execution_count": 110,
     "metadata": {},
     "output_type": "execute_result"
    }
   ],
   "source": [
    "# Filter names that start with \"Ma\" and end with \"i\"\n",
    "filtered_names_df = baby_names_df[baby_names_df['Name'].str.startswith(\"Ma\") & baby_names_df['Name'].str.endswith(\"i\")]\n",
    "\n",
    "# Sort by 'Year' and get the top four names\n",
    "sorted_names_df = filtered_names_df.sort_values('Year').drop_duplicates(subset=[\"Name\"]).head(4)\n",
    "\n",
    "# Display the sorted names dataframe\n",
    "sorted_names_df\n"
   ]
  },
  {
   "cell_type": "markdown",
   "id": "timely-rings",
   "metadata": {},
   "source": [
    "##### 5.3. Plot the popularity of the name Hillary over time. "
   ]
  },
  {
   "cell_type": "code",
   "execution_count": null,
   "id": "cardiovascular-academy",
   "metadata": {},
   "outputs": [
    {
     "data": {
      "text/plain": [
       "<Figure size 1000x600 with 0 Axes>"
      ]
     },
     "metadata": {},
     "output_type": "display_data"
    },
    {
     "data": {
      "image/png": "[encoded data removed]",
      "text/plain": [
       "<Figure size 640x480 with 1 Axes>"
      ]
     },
     "metadata": {},
     "output_type": "display_data"
    }
   ],
   "source": [
    "# Filter rows where name is \"Hillary\"\n",
    "hillary_df = baby_names_df[baby_names_df['Name'] == 'Hillary']\n",
    "\n",
    "# Plot the figure\n",
    "plt.figure(figsize=(10,6))\n",
    "hillary_df.plot(x='Year', y='Count', kind='line', label='Counts')\n",
    "\n",
    "# Set the plot descriptors\n",
    "plt.title('Popularity of the name \"Hillary\" over time')\n",
    "plt.xlabel('Year')\n",
    "plt.ylabel('Count')\n",
    "\n",
    "# Show the plot\n",
    "plt.show()\n"
   ]
  },
  {
   "cell_type": "markdown",
   "id": "collected-vintage",
   "metadata": {},
   "source": [
    "##### 5.4. Find unisex baby names (i.e., names that are used by females and males)."
   ]
  },
  {
   "cell_type": "code",
   "execution_count": null,
   "id": "expanded-norfolk",
   "metadata": {},
   "outputs": [
    {
     "data": {
      "text/html": [
       "<div>\n",
       "<style scoped>\n",
       "    .dataframe tbody tr th:only-of-type {\n",
       "        vertical-align: middle;\n",
       "    }\n",
       "\n",
       "    .dataframe tbody tr th {\n",
       "        vertical-align: top;\n",
       "    }\n",
       "\n",
       "    .dataframe thead th {\n",
       "        text-align: right;\n",
       "    }\n",
       "</style>\n",
       "<table border=\"1\" class=\"dataframe\">\n",
       "  <thead>\n",
       "    <tr style=\"text-align: right;\">\n",
       "      <th></th>\n",
       "      <th>Name</th>\n",
       "      <th>Number of Genders</th>\n",
       "    </tr>\n",
       "  </thead>\n",
       "  <tbody>\n",
       "    <tr>\n",
       "      <th>0</th>\n",
       "      <td>Aarin</td>\n",
       "      <td>2</td>\n",
       "    </tr>\n",
       "    <tr>\n",
       "      <th>1</th>\n",
       "      <td>Aaron</td>\n",
       "      <td>2</td>\n",
       "    </tr>\n",
       "    <tr>\n",
       "      <th>2</th>\n",
       "      <td>Aarya</td>\n",
       "      <td>2</td>\n",
       "    </tr>\n",
       "    <tr>\n",
       "      <th>3</th>\n",
       "      <td>Aaryn</td>\n",
       "      <td>2</td>\n",
       "    </tr>\n",
       "    <tr>\n",
       "      <th>4</th>\n",
       "      <td>Abeer</td>\n",
       "      <td>2</td>\n",
       "    </tr>\n",
       "    <tr>\n",
       "      <th>...</th>\n",
       "      <td>...</td>\n",
       "      <td>...</td>\n",
       "    </tr>\n",
       "    <tr>\n",
       "      <th>1754</th>\n",
       "      <td>Zion</td>\n",
       "      <td>2</td>\n",
       "    </tr>\n",
       "    <tr>\n",
       "      <th>1755</th>\n",
       "      <td>Zixuan</td>\n",
       "      <td>2</td>\n",
       "    </tr>\n",
       "    <tr>\n",
       "      <th>1756</th>\n",
       "      <td>Zoe</td>\n",
       "      <td>2</td>\n",
       "    </tr>\n",
       "    <tr>\n",
       "      <th>1757</th>\n",
       "      <td>Zuri</td>\n",
       "      <td>2</td>\n",
       "    </tr>\n",
       "    <tr>\n",
       "      <th>1758</th>\n",
       "      <td>Zuriel</td>\n",
       "      <td>2</td>\n",
       "    </tr>\n",
       "  </tbody>\n",
       "</table>\n",
       "<p>1759 rows × 2 columns</p>\n",
       "</div>"
      ],
      "text/plain": [
       "        Name  Number of Genders\n",
       "0      Aarin                  2\n",
       "1      Aaron                  2\n",
       "2      Aarya                  2\n",
       "3      Aaryn                  2\n",
       "4      Abeer                  2\n",
       "...      ...                ...\n",
       "1754    Zion                  2\n",
       "1755  Zixuan                  2\n",
       "1756     Zoe                  2\n",
       "1757    Zuri                  2\n",
       "1758  Zuriel                  2\n",
       "\n",
       "[1759 rows x 2 columns]"
      ]
     },
     "execution_count": 112,
     "metadata": {},
     "output_type": "execute_result"
    }
   ],
   "source": [
    "# Group by 'Name' and count the unique number of genders for each name\n",
    "gender_counts = baby_names_df.groupby('Name')['Sex'].nunique()\n",
    "\n",
    "# Filter names that associated with male and female gender\n",
    "unisex_counts = gender_counts[gender_counts == 2]\n",
    "\n",
    "# Convert the result into a DataFrame\n",
    "unisex_names_df = unisex_counts.reset_index()\n",
    "unisex_names_df.columns = ['Name', 'Number of Genders']\n",
    "\n",
    "# Display the dataframe of all of the names (and the number of genders they are associated with)\n",
    "unisex_names_df\n"
   ]
  }
 ],
 "metadata": {
  "kernelspec": {
   "display_name": "Python 3 (ipykernel)",
   "language": "python",
   "name": "python3"
  },
  "language_info": {
   "codemirror_mode": {
    "name": "ipython",
    "version": 3
   },
   "file_extension": ".py",
   "mimetype": "text/x-python",
   "name": "python",
   "nbconvert_exporter": "python",
   "pygments_lexer": "ipython3",
   "version": "3.11.6"
  }
 },
 "nbformat": 4,
 "nbformat_minor": 5
}
